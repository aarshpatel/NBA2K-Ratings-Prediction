{
 "cells": [
  {
   "cell_type": "markdown",
   "metadata": {},
   "source": [
    "### Ridge Regression Model With Hyperparameter and Feature Selection ###"
   ]
  },
  {
   "cell_type": "code",
   "execution_count": 4,
   "metadata": {
    "collapsed": true
   },
   "outputs": [],
   "source": [
    "import numpy as np\n",
    "\n",
    "from sklearn.metrics import make_scorer, mean_squared_error, mean_absolute_error\n",
    "from sklearn.feature_selection import RFECV\n",
    "from sklearn.model_selection import GridSearchCV\n",
    "from sklearn.linear_model import Ridge, LinearRegression\n",
    "from sklearn.model_selection import train_test_split"
   ]
  },
  {
   "cell_type": "markdown",
   "metadata": {},
   "source": [
    "#### Scoring function ####"
   ]
  },
  {
   "cell_type": "code",
   "execution_count": 5,
   "metadata": {
    "collapsed": true
   },
   "outputs": [],
   "source": [
    "def root_mean_squared(act_y, pred_y):\n",
    "    \"\"\" Root Mean Squared Error \"\"\"\n",
    "    rmse = np.sqrt(mean_squared_error(act_y, pred_y))\n",
    "    return rmse\n",
    "\n",
    "def absolute_error(act_y, pred_y):\n",
    "    \"\"\" Mean Absolute Error\"\"\"\n",
    "    mae = mean_absolute_error(act_y, pred_y)\n",
    "    return mae"
   ]
  },
  {
   "cell_type": "code",
   "execution_count": 6,
   "metadata": {
    "collapsed": true
   },
   "outputs": [],
   "source": [
    "rmse_score_function = make_scorer(root_mean_squared, greater_is_better=False)\n",
    "mae_score_function = make_scorer(absolute_error, greater_is_better=False)"
   ]
  },
  {
   "cell_type": "markdown",
   "metadata": {},
   "source": [
    "#### Loading the Training and Testing Data ###"
   ]
  },
  {
   "cell_type": "code",
   "execution_count": 7,
   "metadata": {
    "collapsed": false
   },
   "outputs": [
    {
     "name": "stdout",
     "output_type": "stream",
     "text": [
      "(2547, 49)\n",
      "(2547,)\n",
      "(637, 49)\n",
      "(637,)\n"
     ]
    }
   ],
   "source": [
    "train = np.load('../Models/train.npy')\n",
    "\n",
    "X_train = np.load('../Models/X_train.npy')\n",
    "y_train = np.load('../Models/y_train.npy')\n",
    "X_test = np.load('../Models/X_test.npy')\n",
    "y_test = np.load('../Models/y_test.npy')\n",
    "\n",
    "print X_train.shape\n",
    "print y_train.shape\n",
    "print X_test.shape\n",
    "print y_test.shape"
   ]
  },
  {
   "cell_type": "code",
   "execution_count": 8,
   "metadata": {
    "collapsed": false
   },
   "outputs": [],
   "source": [
    "ridge = Ridge()\n",
    "# ridge.fit(X_train, y_train)\n",
    "# pred = ridge.predict(X_test)\n",
    "# print 'RMSE {0}, MAE {1}'.format(root_mean_squared(y_test, pred), absolute_error(y_test, pred))"
   ]
  },
  {
   "cell_type": "code",
   "execution_count": 9,
   "metadata": {
    "collapsed": false
   },
   "outputs": [
    {
     "name": "stdout",
     "output_type": "stream",
     "text": [
      "MAE 3.55857969394\n",
      "RMSE 4.58429548429\n"
     ]
    }
   ],
   "source": [
    "rfecv_mae = RFECV(estimator=LinearRegression(), step=1, cv=10, scoring=mae_score_function)\n",
    "rfecv_rmse = RFECV(estimator=LinearRegression(), step=1, cv=10, scoring=rmse_score_function)\n",
    "\n",
    "rfecv_mae = rfecv_mae.fit(X_train, y_train)\n",
    "rfecv_rmse = rfecv_rmse.fit(X_train, y_train)\n",
    "\n",
    "prediction_mae = rfecv_mae.predict(X_test)\n",
    "prediction_rmse = rfecv_rmse.predict(X_test)\n",
    "\n",
    "print 'MAE {0}'.format(absolute_error(y_test, prediction_mae))\n",
    "print 'RMSE {0}'.format(root_mean_squared(y_test, prediction_rmse))\n",
    "\n",
    "# best_estim = rfecv.estimator_"
   ]
  },
  {
   "cell_type": "code",
   "execution_count": 10,
   "metadata": {
    "collapsed": false
   },
   "outputs": [],
   "source": [
    "parameters = {\n",
    "    'estimator__alpha': [0.01, 0.1, 1.0, 10, 100],\n",
    "    'estimator__normalize': [True, False],\n",
    "    'estimator__fit_intercept': [True, False]\n",
    "}\n",
    "\n",
    "# gscv = GridSearchCV(estimator=rfecv, param_grid=parameters, scoring=mae_score_function)\n",
    "# gscv.fit(X_train, y_train)\n",
    "# new_reg = gscv.best_estimator_\n",
    "# print type(new_reg)\n",
    "# pred_value = new_reg.predict(X_test)\n",
    "# print 'RMSE {0}, MAE {1}'.format(root_mean_squared(y_test, pred_value), absolute_error(y_test, pred_value))\n",
    "\n"
   ]
  },
  {
   "cell_type": "code",
   "execution_count": 11,
   "metadata": {
    "collapsed": false
   },
   "outputs": [],
   "source": [
    "import pandas as pd\n",
    "df_data = pd.read_csv(\"../feature_engineered_dataset.csv\")\n",
    "feature_names = df_data.columns\n",
    "import operator"
   ]
  },
  {
   "cell_type": "code",
   "execution_count": 12,
   "metadata": {
    "collapsed": false
   },
   "outputs": [
    {
     "data": {
      "text/plain": [
       "Index([u'age', u'games', u'games_started', u'minutes_played',\n",
       "       u'field_goals_per_game', u'field_goal_attempts_per_game',\n",
       "       u'field_goal_percentage', u'3-point_field_goals_per_game',\n",
       "       u'3-point_field_goal_attempted_per_game', u'3-point_goal_percentage',\n",
       "       u'2-point_field_goals_per_game',\n",
       "       u'2-point_field_goals_attempted_per_game',\n",
       "       u'2-point_field_goal_percentage', u'free_throws_per_game',\n",
       "       u'free_throw_attempts_per_game', u'free_throw_percentage',\n",
       "       u'offensive_rebounds_per_game', u'defensive_rebounds_per_game',\n",
       "       u'total_rebounds_per_game', u'assists_per_game', u'steals_per_game',\n",
       "       u'blocks_per_game', u'turnovers_per_game', u'personal_fouls_per_game',\n",
       "       u'points_per_game', u'3_point_attempt_rate', u'assist_percentage',\n",
       "       u'block_percentage', u'defensive_box_plus_minux',\n",
       "       u'defensive_rebound_percentage', u'defensive_win_shares',\n",
       "       u'free_throw_attempt_rate', u'offensive_box_plus_minux',\n",
       "       u'offensive_rebound_percentage', u'offensive_win_shares',\n",
       "       u'player_efficiency_rating', u'steal_percentage',\n",
       "       u'turnover_percentage', u'total_rebound_percentage',\n",
       "       u'true_shooting_percentage', u'usage_percentage',\n",
       "       u'value_over_replacement_player', u'win_shares_per_48_minutes',\n",
       "       u'position_C', u'position_PF', u'position_PG', u'position_SF',\n",
       "       u'position_SG', u'games_start_percentage', u'rating'],\n",
       "      dtype='object')"
      ]
     },
     "execution_count": 12,
     "metadata": {},
     "output_type": "execute_result"
    }
   ],
   "source": [
    "feature_names"
   ]
  },
  {
   "cell_type": "code",
   "execution_count": null,
   "metadata": {
    "collapsed": false
   },
   "outputs": [],
   "source": [
    "estimator = Ridge()\n",
    "selector_mae = RFECV(estimator, step=1, cv=10, scoring=mae_score_function)\n",
    "selector_rmse = RFECV(estimator, step=1, cv=10, scoring=rmse_score_function)\n",
    "clf_mae = GridSearchCV(estimator=selector_mae, param_grid=parameters, cv=10, scoring=mae_score_function)\n",
    "clf_rmse = GridSearchCV(estimator=selector_rmse, param_grid=parameters, cv=10, scoring=rmse_score_function)\n",
    "clf_mae.fit(X_train, y_train)\n",
    "clf_rmse.fit(X_train, y_train)\n",
    "\n",
    "new_reg_mae = clf_mae.best_estimator_\n",
    "pred_value_mae = new_reg_mae.predict(X_test)\n",
    "\n",
    "new_reg_rmse = clf_rmse.best_estimator_\n",
    "pred_value_rmse = new_reg_rmse.predict(X_test)\n",
    "\n",
    "print 'MAE {0}'.format(absolute_error(y_test, pred_value_mae))\n",
    "print 'RMSE {0}'.format(root_mean_squared(y_test, pred_value_rmse))"
   ]
  },
  {
   "cell_type": "code",
   "execution_count": 116,
   "metadata": {
    "collapsed": false
   },
   "outputs": [
    {
     "name": "stdout",
     "output_type": "stream",
     "text": [
      "MAE 3.55857969394\n",
      "RMSE 4.58429548429\n",
      "[('personal_fouls_per_game', 3), ('games', 2), ('rating', 1), ('steal_percentage', 1), ('free_throw_attempts_per_game', 1), ('offensive_rebounds_per_game', 1), ('assist_percentage', 1), ('defensive_box_plus_minux', 1), ('defensive_win_shares', 1), ('3-point_goal_percentage', 1), ('total_rebounds_per_game', 1), ('field_goals_per_game', 1), ('turnover_percentage', 1), ('2-point_field_goals_per_game', 1), ('block_percentage', 1), ('true_shooting_percentage', 1), ('field_goal_percentage', 1), ('3-point_field_goal_attempted_per_game', 1), ('total_rebound_percentage', 1), ('position_SF', 1), ('minutes_played', 1), ('position_C', 1), ('games_started', 1), ('free_throw_percentage', 1), ('offensive_box_plus_minux', 1), ('win_shares_per_48_minutes', 1), ('assists_per_game', 1), ('value_over_replacement_player', 1), ('3_point_attempt_rate', 1), ('free_throws_per_game', 1), ('blocks_per_game', 1), ('player_efficiency_rating', 1), ('free_throw_attempt_rate', 1), ('position_PG', 1), ('points_per_game', 1), ('offensive_rebound_percentage', 1), ('3-point_field_goals_per_game', 1), ('2-point_field_goal_percentage', 1), ('2-point_field_goals_attempted_per_game', 1), ('position_PF', 1), ('field_goal_attempts_per_game', 1), ('age', 1), ('offensive_win_shares', 1), ('turnovers_per_game', 1), ('defensive_rebound_percentage', 1), ('steals_per_game', 1), ('position_SG', 1), ('usage_percentage', 1), ('defensive_rebounds_per_game', 1)]\n"
     ]
    }
   ],
   "source": [
    "# estimator = LinearRegression()\n",
    "# selector_mae = RFECV(estimator, step=1, cv=10, scoring=mae_score_function)\n",
    "# selector_rmse = RFECV(estimator, step=1, cv=10, scoring=rmse_score_function)\n",
    "\n",
    "# selector_mae.fit(X_train, y_train)\n",
    "# selector_rmse.fit(X_train, y_train)\n",
    "\n",
    "# pred_value_mae = selector_mae.predict(X_test)\n",
    "# pred_value_rmse = selector_rmse.predict(X_test)\n",
    "\n",
    "# print 'MAE {0}'.format(absolute_error(y_test, pred_value_mae))\n",
    "# print 'RMSE {0}'.format(root_mean_squared(y_test, pred_value_rmse))\n",
    "\n",
    "# mae_feature_selection= sorted(dict(zip(list(feature_names), list(selector_mae.ranking_))).items(), key=operator.itemgetter(1), reverse=True)\n",
    "\n",
    "# rmse_feature_selection= sorted(dict(zip(list(feature_names), list(selector_rmse.ranking_))).items(), key=operator.itemgetter(1), reverse=True)\n"
   ]
  },
  {
   "cell_type": "code",
   "execution_count": 117,
   "metadata": {
    "collapsed": true
   },
   "outputs": [],
   "source": [
    "import pprint"
   ]
  },
  {
   "cell_type": "code",
   "execution_count": 119,
   "metadata": {
    "collapsed": false
   },
   "outputs": [
    {
     "name": "stdout",
     "output_type": "stream",
     "text": [
      "[('personal_fouls_per_game', 3),\n",
      " ('games', 2),\n",
      " ('rating', 1),\n",
      " ('steal_percentage', 1),\n",
      " ('free_throw_attempts_per_game', 1),\n",
      " ('offensive_rebounds_per_game', 1),\n",
      " ('assist_percentage', 1),\n",
      " ('defensive_box_plus_minux', 1),\n",
      " ('defensive_win_shares', 1),\n",
      " ('3-point_goal_percentage', 1),\n",
      " ('total_rebounds_per_game', 1),\n",
      " ('field_goals_per_game', 1),\n",
      " ('turnover_percentage', 1),\n",
      " ('2-point_field_goals_per_game', 1),\n",
      " ('block_percentage', 1),\n",
      " ('true_shooting_percentage', 1),\n",
      " ('field_goal_percentage', 1),\n",
      " ('3-point_field_goal_attempted_per_game', 1),\n",
      " ('total_rebound_percentage', 1),\n",
      " ('position_SF', 1),\n",
      " ('minutes_played', 1),\n",
      " ('position_C', 1),\n",
      " ('games_started', 1),\n",
      " ('free_throw_percentage', 1),\n",
      " ('offensive_box_plus_minux', 1),\n",
      " ('win_shares_per_48_minutes', 1),\n",
      " ('assists_per_game', 1),\n",
      " ('value_over_replacement_player', 1),\n",
      " ('3_point_attempt_rate', 1),\n",
      " ('free_throws_per_game', 1),\n",
      " ('blocks_per_game', 1),\n",
      " ('player_efficiency_rating', 1),\n",
      " ('free_throw_attempt_rate', 1),\n",
      " ('position_PG', 1),\n",
      " ('points_per_game', 1),\n",
      " ('offensive_rebound_percentage', 1),\n",
      " ('3-point_field_goals_per_game', 1),\n",
      " ('2-point_field_goal_percentage', 1),\n",
      " ('2-point_field_goals_attempted_per_game', 1),\n",
      " ('position_PF', 1),\n",
      " ('field_goal_attempts_per_game', 1),\n",
      " ('age', 1),\n",
      " ('offensive_win_shares', 1),\n",
      " ('turnovers_per_game', 1),\n",
      " ('defensive_rebound_percentage', 1),\n",
      " ('steals_per_game', 1),\n",
      " ('position_SG', 1),\n",
      " ('usage_percentage', 1),\n",
      " ('defensive_rebounds_per_game', 1)]\n",
      "--------------------------\n",
      "[('personal_fouls_per_game', 6),\n",
      " ('games', 5),\n",
      " ('offensive_box_plus_minux', 4),\n",
      " ('age', 3),\n",
      " ('games_started', 2),\n",
      " ('rating', 1),\n",
      " ('steal_percentage', 1),\n",
      " ('free_throw_attempts_per_game', 1),\n",
      " ('offensive_rebounds_per_game', 1),\n",
      " ('assist_percentage', 1),\n",
      " ('defensive_box_plus_minux', 1),\n",
      " ('defensive_win_shares', 1),\n",
      " ('3-point_goal_percentage', 1),\n",
      " ('total_rebounds_per_game', 1),\n",
      " ('field_goals_per_game', 1),\n",
      " ('turnover_percentage', 1),\n",
      " ('2-point_field_goals_per_game', 1),\n",
      " ('block_percentage', 1),\n",
      " ('true_shooting_percentage', 1),\n",
      " ('field_goal_percentage', 1),\n",
      " ('3-point_field_goal_attempted_per_game', 1),\n",
      " ('total_rebound_percentage', 1),\n",
      " ('position_SF', 1),\n",
      " ('minutes_played', 1),\n",
      " ('position_C', 1),\n",
      " ('free_throw_percentage', 1),\n",
      " ('win_shares_per_48_minutes', 1),\n",
      " ('assists_per_game', 1),\n",
      " ('value_over_replacement_player', 1),\n",
      " ('3_point_attempt_rate', 1),\n",
      " ('free_throws_per_game', 1),\n",
      " ('blocks_per_game', 1),\n",
      " ('player_efficiency_rating', 1),\n",
      " ('free_throw_attempt_rate', 1),\n",
      " ('position_PG', 1),\n",
      " ('points_per_game', 1),\n",
      " ('offensive_rebound_percentage', 1),\n",
      " ('3-point_field_goals_per_game', 1),\n",
      " ('2-point_field_goal_percentage', 1),\n",
      " ('2-point_field_goals_attempted_per_game', 1),\n",
      " ('position_PF', 1),\n",
      " ('field_goal_attempts_per_game', 1),\n",
      " ('offensive_win_shares', 1),\n",
      " ('turnovers_per_game', 1),\n",
      " ('defensive_rebound_percentage', 1),\n",
      " ('steals_per_game', 1),\n",
      " ('position_SG', 1),\n",
      " ('usage_percentage', 1),\n",
      " ('defensive_rebounds_per_game', 1)]\n"
     ]
    }
   ],
   "source": [
    "pprint.pprint(mae_feature_selection)\n",
    "\n",
    "print \"--------------------------\"\n",
    "\n",
    "\n",
    "pprint.pprint(rmse_feature_selection)"
   ]
  },
  {
   "cell_type": "code",
   "execution_count": null,
   "metadata": {
    "collapsed": true
   },
   "outputs": [],
   "source": []
  }
 ],
 "metadata": {
  "anaconda-cloud": {},
  "kernelspec": {
   "display_name": "Python [conda root]",
   "language": "python",
   "name": "conda-root-py"
  },
  "language_info": {
   "codemirror_mode": {
    "name": "ipython",
    "version": 2
   },
   "file_extension": ".py",
   "mimetype": "text/x-python",
   "name": "python",
   "nbconvert_exporter": "python",
   "pygments_lexer": "ipython2",
   "version": "2.7.12"
  }
 },
 "nbformat": 4,
 "nbformat_minor": 1
}
