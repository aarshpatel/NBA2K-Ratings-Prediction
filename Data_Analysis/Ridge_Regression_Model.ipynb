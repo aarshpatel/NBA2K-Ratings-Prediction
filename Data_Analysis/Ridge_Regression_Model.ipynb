{
 "cells": [
  {
   "cell_type": "code",
   "execution_count": 5,
   "metadata": {
    "collapsed": true
   },
   "outputs": [],
   "source": [
    "import numpy as np\n",
    "\n",
    "from sklearn.metrics import make_scorer, mean_squared_error, mean_absolute_error\n",
    "from sklearn.feature_selection import RFECV\n",
    "from sklearn.model_selection import GridSearchCV\n",
    "from sklearn.linear_model import Ridge"
   ]
  },
  {
   "cell_type": "code",
   "execution_count": 20,
   "metadata": {
    "collapsed": true
   },
   "outputs": [],
   "source": [
    "def root_mean_squared(act_y, pred_y):\n",
    "    \"\"\" Root Mean Squared Error \"\"\"\n",
    "    rmse = np.sqrt(mean_squared_error(act_y, pred_y))\n",
    "    return rmse\n",
    "\n",
    "def absolute_error(act_y, pred_y):\n",
    "    \"\"\" Mean Absolute Error\"\"\"\n",
    "    mae = mean_absolute_error(act_y, pred_y)\n",
    "    return mae"
   ]
  },
  {
   "cell_type": "code",
   "execution_count": 21,
   "metadata": {
    "collapsed": true
   },
   "outputs": [],
   "source": [
    "rmse_score_function = make_scorer(root_mean_squared, greater_is_better=False)\n",
    "mae_score_function = make_scorer(absolute_error, greater_is_better=False)"
   ]
  },
  {
   "cell_type": "code",
   "execution_count": 22,
   "metadata": {
    "collapsed": true
   },
   "outputs": [],
   "source": [
    "X_train = np.load('../Models/X_train.npy')\n",
    "X_test = np.load('../Models/X_test.npy')\n",
    "y_train = np.load('../Models/y_train.npy')\n",
    "y_test = np.load('../Models/y_test.npy')"
   ]
  },
  {
   "cell_type": "code",
   "execution_count": 27,
   "metadata": {
    "collapsed": false
   },
   "outputs": [
    {
     "name": "stdout",
     "output_type": "stream",
     "text": [
      "RMSE 4.62430630258, MAE 3.61200283076\n"
     ]
    }
   ],
   "source": [
    "ridge = Ridge()\n",
    "ridge.fit(X_train, y_train)\n",
    "pred = ridge.predict(X_test)\n",
    "print 'RMSE {0}, MAE {1}'.format(root_mean_squared(y_test, pred), absolute_error(y_test, pred))"
   ]
  },
  {
   "cell_type": "code",
   "execution_count": null,
   "metadata": {
    "collapsed": true
   },
   "outputs": [],
   "source": [
    "list_of_vals = np.arange(0, 1, 0.0001)\n",
    "parameters = {\n",
    "    'alpha': list_of_vals,\n",
    "    'normalize': [True, False]\n",
    "}\n",
    "\n",
    "gscv = GridSearchCV(estimator=regression, param_grid=parameters, scoring=rmse_score_function)"
   ]
  },
  {
   "cell_type": "code",
   "execution_count": null,
   "metadata": {
    "collapsed": false
   },
   "outputs": [],
   "source": []
  },
  {
   "cell_type": "code",
   "execution_count": null,
   "metadata": {
    "collapsed": true
   },
   "outputs": [],
   "source": []
  }
 ],
 "metadata": {
  "kernelspec": {
   "display_name": "Python [conda root]",
   "language": "python",
   "name": "conda-root-py"
  },
  "language_info": {
   "codemirror_mode": {
    "name": "ipython",
    "version": 2
   },
   "file_extension": ".py",
   "mimetype": "text/x-python",
   "name": "python",
   "nbconvert_exporter": "python",
   "pygments_lexer": "ipython2",
   "version": "2.7.12"
  }
 },
 "nbformat": 4,
 "nbformat_minor": 1
}
