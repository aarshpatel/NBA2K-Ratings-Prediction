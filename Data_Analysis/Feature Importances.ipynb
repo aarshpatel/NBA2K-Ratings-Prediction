{
 "cells": [
  {
   "cell_type": "markdown",
   "metadata": {
    "collapsed": true
   },
   "source": [
    "## Feature Importances from Baseline Linear Regression Model"
   ]
  },
  {
   "cell_type": "code",
   "execution_count": 1,
   "metadata": {
    "collapsed": true
   },
   "outputs": [],
   "source": [
    "from sklearn.feature_selection import RFECV\n",
    "import numpy as np\n",
    "from sklearn.linear_model import LinearRegression\n",
    "from sklearn.model_selection import cross_val_score\n",
    "from sklearn.metrics import make_scorer, mean_squared_error, mean_absolute_error\n",
    "from sklearn.model_selection import KFold, train_test_split\n",
    "import pandas as pd\n",
    "import matplotlib.pyplot as plt\n",
    "import matplotlib\n",
    "matplotlib.style.use('ggplot')\n",
    "\n",
    "%matplotlib inline"
   ]
  },
  {
   "cell_type": "code",
   "execution_count": 10,
   "metadata": {
    "collapsed": true
   },
   "outputs": [],
   "source": [
    "X_train = np.load(\"../Models/X_train.npy\")\n",
    "X_test = np.load(\"../Models/X_test.npy\")\n",
    "y_train = np.load(\"../Models/y_train.npy\")\n",
    "y_test = np.load(\"../Models/y_test.npy\")"
   ]
  },
  {
   "cell_type": "code",
   "execution_count": 3,
   "metadata": {
    "collapsed": true
   },
   "outputs": [],
   "source": [
    "def root_mean_squared(act_y, pred_y):\n",
    "    \"\"\" Root Mean Squared Error \"\"\"\n",
    "    rmse = np.sqrt(mean_squared_error(act_y, pred_y))\n",
    "    return rmse\n",
    "\n",
    "def absolute_error(act_y, pred_y):\n",
    "    \"\"\" Mean Absolute Error\"\"\"\n",
    "    mae = mean_absolute_error(act_y, pred_y)\n",
    "    return mae \n",
    "\n",
    "rmse_score_function = make_scorer(root_mean_squared, greater_is_better=False)\n",
    "mae_score_function = make_scorer(absolute_error, greater_is_better=False)"
   ]
  },
  {
   "cell_type": "code",
   "execution_count": 28,
   "metadata": {
    "collapsed": false
   },
   "outputs": [
    {
     "name": "stdout",
     "output_type": "stream",
     "text": [
      "MAE:  3.55857969394\n",
      "RMSE:  4.58429548429\n"
     ]
    }
   ],
   "source": [
    "rfe_cv_mae = RFECV(LinearRegression(), cv=10, scoring=mae_score_function)\n",
    "rfe_cv_rmse = RFECV(LinearRegression(), cv=10, scoring=rmse_score_function)\n",
    "\n",
    "rfe_cv_mae.fit(X_train, y_train)\n",
    "rfe_cv_rmse.fit(X_train, y_train)\n",
    "\n",
    "pred_mae = rfe_cv_mae.predict(X_test)\n",
    "pred_rmse = rfe_cv_rmse.predict(X_test)\n",
    "\n",
    "print \"MAE: \", absolute_error(y_test, pred_mae)\n",
    "print \"RMSE: \", root_mean_squared(y_test, pred_rmse)"
   ]
  },
  {
   "cell_type": "code",
   "execution_count": 29,
   "metadata": {
    "collapsed": false
   },
   "outputs": [
    {
     "name": "stdout",
     "output_type": "stream",
     "text": [
      "47\n",
      "44\n"
     ]
    }
   ],
   "source": [
    "print rfe_cv_mae.n_features_\n",
    "print rfe_cv_rmse.n_features_"
   ]
  },
  {
   "cell_type": "code",
   "execution_count": 24,
   "metadata": {
    "collapsed": false
   },
   "outputs": [
    {
     "data": {
      "text/plain": [
       "array([ True, False,  True,  True,  True,  True,  True,  True,  True,\n",
       "        True,  True,  True,  True,  True,  True,  True,  True,  True,\n",
       "        True,  True,  True,  True,  True, False,  True,  True,  True,\n",
       "        True,  True,  True,  True,  True,  True,  True,  True,  True,\n",
       "        True,  True,  True,  True,  True,  True,  True,  True,  True,\n",
       "        True,  True,  True,  True], dtype=bool)"
      ]
     },
     "execution_count": 24,
     "metadata": {},
     "output_type": "execute_result"
    }
   ],
   "source": [
    "rfe_cv.support_"
   ]
  },
  {
   "cell_type": "code",
   "execution_count": null,
   "metadata": {
    "collapsed": true
   },
   "outputs": [],
   "source": []
  }
 ],
 "metadata": {
  "anaconda-cloud": {},
  "kernelspec": {
   "display_name": "Python 2",
   "language": "python",
   "name": "python2"
  },
  "language_info": {
   "codemirror_mode": {
    "name": "ipython",
    "version": 2
   },
   "file_extension": ".py",
   "mimetype": "text/x-python",
   "name": "python",
   "nbconvert_exporter": "python",
   "pygments_lexer": "ipython2",
   "version": "2.7.13"
  }
 },
 "nbformat": 4,
 "nbformat_minor": 0
}
