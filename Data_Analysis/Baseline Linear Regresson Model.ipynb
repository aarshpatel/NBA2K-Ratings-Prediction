{
 "cells": [
  {
   "cell_type": "markdown",
   "metadata": {},
   "source": [
    "### Importing libraries"
   ]
  },
  {
   "cell_type": "code",
   "execution_count": 1,
   "metadata": {
    "collapsed": true
   },
   "outputs": [],
   "source": [
    "import numpy as np\n",
    "from sklearn.linear_model import LinearRegression\n",
    "from sklearn.model_selection import cross_val_score\n",
    "from sklearn.metrics import make_scorer, mean_squared_error, mean_absolute_error\n",
    "from sklearn.model_selection import KFold, train_test_split\n",
    "import pandas as pd\n",
    "import matplotlib.pyplot as plt\n",
    "import matplotlib\n",
    "matplotlib.style.use('ggplot')\n",
    "\n",
    "%matplotlib inline"
   ]
  },
  {
   "cell_type": "markdown",
   "metadata": {},
   "source": [
    "### Loading the training data"
   ]
  },
  {
   "cell_type": "code",
   "execution_count": 2,
   "metadata": {
    "collapsed": false
   },
   "outputs": [],
   "source": [
    "X = np.load('../features.npy')\n",
    "y = np.load('../labels.npy')"
   ]
  },
  {
   "cell_type": "markdown",
   "metadata": {},
   "source": [
    "### Train-Test Split"
   ]
  },
  {
   "cell_type": "code",
   "execution_count": 4,
   "metadata": {
    "collapsed": false
   },
   "outputs": [],
   "source": [
    "# shuffle the data?\n",
    "X_train, X_test, y_train, y_test = train_test_split(X, y, test_size=.20, random_state=42)\n",
    "\n",
    "np.save('../Models/X_train', X_train)\n",
    "np.save('../Models/X_test', X_test)\n",
    "np.save('../Models/y_train', y_train)\n",
    "np.save('../Models/y_test', y_test)\n",
    "\n",
    "# Do not use the testing data until the very end"
   ]
  },
  {
   "cell_type": "code",
   "execution_count": 5,
   "metadata": {
    "collapsed": false
   },
   "outputs": [
    {
     "name": "stdout",
     "output_type": "stream",
     "text": [
      "(3184, 51)\n",
      "(796, 51)\n",
      "(3184,)\n",
      "(796,)\n"
     ]
    }
   ],
   "source": [
    "print X_train.shape\n",
    "print X_test.shape\n",
    "print y_train.shape\n",
    "print y_test.shape"
   ]
  },
  {
   "cell_type": "code",
   "execution_count": 6,
   "metadata": {
    "collapsed": true
   },
   "outputs": [],
   "source": [
    "def root_mean_squared(act_y, pred_y):\n",
    "    \"\"\" Root Mean Squared Error \"\"\"\n",
    "    rmse = np.sqrt(mean_squared_error(act_y, pred_y))\n",
    "    return rmse\n",
    "\n",
    "def mean_squared(act_y, pred_y):\n",
    "    \"\"\" Mean Squared Error \"\"\"\n",
    "    mse = mean_squared_error(act_y, pred_y)\n",
    "    return mse\n",
    "\n",
    "def absolute_error(act_y, pred_y):\n",
    "    \"\"\" Mean Absolute Error\"\"\"\n",
    "    mae = mean_absolute_error(act_y, pred_y)\n",
    "    return mae"
   ]
  },
  {
   "cell_type": "code",
   "execution_count": 7,
   "metadata": {
    "collapsed": true
   },
   "outputs": [],
   "source": [
    "rmse_score_function = make_scorer(root_mean_squared, greater_is_better=False)\n",
    "mse_score_function = make_scorer(mean_squared, greater_is_better=False)\n",
    "mae_score_function = make_scorer(absolute_error, greater_is_better=False)"
   ]
  },
  {
   "cell_type": "markdown",
   "metadata": {},
   "source": [
    "###  Cross Validation with Linear Regression"
   ]
  },
  {
   "cell_type": "code",
   "execution_count": 8,
   "metadata": {
    "collapsed": false
   },
   "outputs": [],
   "source": [
    "kf = KFold(n_splits=10)"
   ]
  },
  {
   "cell_type": "code",
   "execution_count": 9,
   "metadata": {
    "collapsed": false
   },
   "outputs": [
    {
     "name": "stdout",
     "output_type": "stream",
     "text": [
      "(3184, 51)\n",
      "(796, 51)\n",
      "(3184, 51)\n",
      "(796, 51)\n",
      "(3184, 51)\n",
      "(796, 51)\n",
      "(3184, 51)\n",
      "(796, 51)\n",
      "(3184, 51)\n",
      "(796, 51)\n",
      "(3184, 51)\n",
      "(796, 51)\n",
      "(3184, 51)\n",
      "(796, 51)\n",
      "(3184, 51)\n",
      "(796, 51)\n",
      "(3184, 51)\n",
      "(796, 51)\n",
      "(3184, 51)\n",
      "(796, 51)\n",
      "Average RMSE: 4.6700985396, Average MSE: 21.8542705369, Average MAE: 3.62563942996\n"
     ]
    }
   ],
   "source": [
    "mse_average = []\n",
    "rmse_average = []\n",
    "mae_average = []\n",
    "for train_index, test_index in kf.split(X_train):\n",
    "    X_train_cv, X_test_cv = X_train[train_index], X_train[test_index]\n",
    "    Y_train_cv, Y_test_cv = y_train[train_index], y_train[test_index]\n",
    "    \n",
    "    print(X_train.shape)\n",
    "    print(X_test.shape)\n",
    "    linearRegression = LinearRegression()\n",
    "    \n",
    "    linearRegression.fit(X_train_cv, Y_train_cv)\n",
    "    \n",
    "    pred = linearRegression.predict(X_test_cv)\n",
    "    \n",
    "    \n",
    "    rmse = root_mean_squared(Y_test_cv, pred)\n",
    "    mse = mean_squared(Y_test_cv, pred)\n",
    "    mae = absolute_error(Y_test_cv, pred)\n",
    "    \n",
    "    mse_average.append(mse)\n",
    "    rmse_average.append(rmse)\n",
    "    mae_average.append(mae)\n",
    "#     print \"RMSE: {0}, MSE: {1}\".format(rmse, mse)\n",
    "\n",
    "print \"Average RMSE: {0}, Average MSE: {1}, Average MAE: {2}\".format(np.mean(rmse_average), np.mean(mse_average), np.mean(mae_average))"
   ]
  },
  {
   "cell_type": "code",
   "execution_count": 10,
   "metadata": {
    "collapsed": false
   },
   "outputs": [],
   "source": [
    "cv_linear_regression = pd.DataFrame({\n",
    "        \"CV Iteration\": range(1, 11),\n",
    "        \"MAE\": mae_average,\n",
    "        \"RMSE\": rmse_average\n",
    "    })"
   ]
  },
  {
   "cell_type": "code",
   "execution_count": 12,
   "metadata": {
    "collapsed": false
   },
   "outputs": [
    {
     "data": {
      "text/plain": [
       "<matplotlib.text.Text at 0x111da2d10>"
      ]
     },
     "execution_count": 12,
     "metadata": {},
     "output_type": "execute_result"
    },
    {
     "data": {
      "image/png": "[encoded data removed]",
      "text/plain": [
       "<matplotlib.figure.Figure at 0x1197a9310>"
      ]
     },
     "metadata": {},
     "output_type": "display_data"
    }
   ],
   "source": [
    "fig, ax = plt.subplots()\n",
    "\n",
    "cv_linear_regression.plot.line(x=\"CV Iteration\", y=\"MAE\", ax=ax)\n",
    "ax.set_ylabel(\"MAE\")"
   ]
  },
  {
   "cell_type": "code",
   "execution_count": 13,
   "metadata": {
    "collapsed": false
   },
   "outputs": [
    {
     "data": {
      "text/plain": [
       "LinearRegression(copy_X=True, fit_intercept=True, n_jobs=1, normalize=False)"
      ]
     },
     "execution_count": 13,
     "metadata": {},
     "output_type": "execute_result"
    }
   ],
   "source": [
    "baseline_linreg_model = LinearRegression()\n",
    "baseline_linreg_model.fit(X_train, y_train)"
   ]
  },
  {
   "cell_type": "code",
   "execution_count": 14,
   "metadata": {
    "collapsed": false
   },
   "outputs": [
    {
     "data": {
      "text/plain": [
       "array([ -4.77094578e-02,  -1.28755334e-02,  -5.67584970e-03,\n",
       "        -2.80255642e-01,  -2.88154152e+00,  -1.01594588e+00,\n",
       "        -1.70173806e+01,  -1.39061123e+00,   2.21457992e+00,\n",
       "        -5.51643414e-02,   8.30039650e-01,   1.81783730e+00,\n",
       "         2.14735333e+00,   8.82775497e+00,  -2.11440407e+00,\n",
       "         9.35406249e-01,   3.50346842e-01,   9.44493389e-01,\n",
       "         3.55440249e-01,  -2.88701297e-02,   5.32982863e-01,\n",
       "         2.28410326e+00,   1.39402025e+00,   1.91106114e+00,\n",
       "        -6.18240680e-02,   8.51545510e-01,  -2.29611646e+00,\n",
       "        -5.30961223e-02,  -1.43030191e-01,  -9.43277157e-01,\n",
       "         1.28378583e+00,  -1.03623842e+00,  -1.16157885e+00,\n",
       "         1.36073076e+00,   1.27331544e+00,  -1.21179228e+00,\n",
       "        -1.03325865e+00,   1.78387242e-01,  -6.69471602e-01,\n",
       "         2.45402322e-03,   2.09416623e+00,  -3.55403127e+00,\n",
       "         1.98273346e-02,  -6.01385987e-01,   2.02468301e+00,\n",
       "        -9.91192889e-01,  -1.35859494e+00,  -6.07164586e-01,\n",
       "         2.67751698e-01,   6.33931162e-01,   1.06407667e+00])"
      ]
     },
     "execution_count": 14,
     "metadata": {},
     "output_type": "execute_result"
    }
   ],
   "source": [
    "baseline_linreg_model.coef_"
   ]
  },
  {
   "cell_type": "code",
   "execution_count": 15,
   "metadata": {
    "collapsed": false
   },
   "outputs": [],
   "source": [
    "df_data = pd.read_csv(\"../clean_dataset.csv\")"
   ]
  },
  {
   "cell_type": "code",
   "execution_count": 16,
   "metadata": {
    "collapsed": false
   },
   "outputs": [],
   "source": [
    "feature_names = df_data.columns"
   ]
  },
  {
   "cell_type": "code",
   "execution_count": 17,
   "metadata": {
    "collapsed": false
   },
   "outputs": [],
   "source": [
    "import operator\n",
    "sorted_feature_weights= sorted(dict(zip(list(feature_names), list(baseline_linreg_model.coef_))).items(), key=operator.itemgetter(1), reverse=True)"
   ]
  },
  {
   "cell_type": "code",
   "execution_count": 18,
   "metadata": {
    "collapsed": false,
    "scrolled": true
   },
   "outputs": [
    {
     "data": {
      "text/plain": [
       "[('effective_field_goal_percentage', 8.8277549746641224),\n",
       " ('steals_per_game', 2.2841032562694581),\n",
       " ('3-point_field_goal_attempted_per_game', 2.2145799220849058),\n",
       " ('2-point_field_goal_percentage', 2.1473533280702441),\n",
       " ('total_rebound_percentage', 2.0941662288676666),\n",
       " ('win_shares', 2.0246830105599298),\n",
       " ('turnovers_per_game', 1.9110611434300062),\n",
       " ('2-point_field_goals_attempted_per_game', 1.8178372958488045),\n",
       " ('blocks_per_game', 1.3940202487733582),\n",
       " ('free_throw_attempt_rate', 1.3607307609258983)]"
      ]
     },
     "execution_count": 18,
     "metadata": {},
     "output_type": "execute_result"
    }
   ],
   "source": [
    "sorted_feature_weights[:10]"
   ]
  },
  {
   "cell_type": "code",
   "execution_count": null,
   "metadata": {
    "collapsed": true
   },
   "outputs": [],
   "source": []
  }
 ],
 "metadata": {
  "anaconda-cloud": {},
  "kernelspec": {
   "display_name": "Python [default]",
   "language": "python",
   "name": "python2"
  },
  "language_info": {
   "codemirror_mode": {
    "name": "ipython",
    "version": 2
   },
   "file_extension": ".py",
   "mimetype": "text/x-python",
   "name": "python",
   "nbconvert_exporter": "python",
   "pygments_lexer": "ipython2",
   "version": "2.7.12"
  }
 },
 "nbformat": 4,
 "nbformat_minor": 0
}
