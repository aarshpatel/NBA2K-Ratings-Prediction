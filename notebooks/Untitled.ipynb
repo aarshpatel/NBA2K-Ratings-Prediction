{
 "cells": [
  {
   "cell_type": "code",
   "execution_count": 20,
   "metadata": {
    "collapsed": false
   },
   "outputs": [
    {
     "data": {
      "image/png": "[encoded data removed]",
      "text/plain": [
       "<matplotlib.figure.Figure at 0x112297f10>"
      ]
     },
     "metadata": {},
     "output_type": "display_data"
    }
   ],
   "source": [
    "import pandas as pd\n",
    "import matplotlib.pyplot as plt\n",
    "\n",
    "df = pd.DataFrame({'change1': [6.28727070701, 3.63939107251, 3.85326558583, 3.79189258755],\n",
    " 'change2': [6.28727070701, 3.68146163841, 3.7448225904, 3.7555804203],\n",
    " 'term': ['Baseline Model', 'Linear Regression', 'Ridge Regression', 'Random Forest']})\n",
    "fig = plt.figure()\n",
    "ax = fig.add_subplot(111)\n",
    "ax2 = ax.twinx()\n",
    "\n",
    "df['change1'].plot(kind='bar', color='red', ax=ax, position=0, width=0.25)\n",
    "df['change2'].plot(kind='bar', color='blue', ax=ax2, position=1, width=0.25)\n",
    "ax.set_ylabel = ('change1')\n",
    "ax2.set_ylabel = ('change2')\n",
    "plt.show()"
   ]
  },
  {
   "cell_type": "code",
   "execution_count": 21,
   "metadata": {
    "collapsed": true
   },
   "outputs": [],
   "source": [
    "df.to_csv('offensive_defensive.csv', index=False)"
   ]
  },
  {
   "cell_type": "code",
   "execution_count": 18,
   "metadata": {
    "collapsed": false
   },
   "outputs": [
    {
     "data": {
      "image/png": "[encoded data removed]",
      "text/plain": [
       "<matplotlib.figure.Figure at 0x1124d3950>"
      ]
     },
     "metadata": {},
     "output_type": "display_data"
    }
   ],
   "source": [
    "import pandas as pd\n",
    "import matplotlib.pyplot as plt\n",
    "\n",
    "df = pd.DataFrame({'change1': [6.28727070701, 3.72484615201, 3.89439132246, 3.95049562595],\n",
    " 'change2': [6.28727070701, 3.75978184012, 3.82679861347, 3.82316391277],\n",
    " 'term': ['Baseline Model', 'Linear Regression', 'Ridge Regression', 'Random Forest']})\n",
    "fig = plt.figure()\n",
    "ax = fig.add_subplot(111)\n",
    "ax2 = ax.twinx()\n",
    "\n",
    "df['change1'].plot(kind='bar', color='red', ax=ax, position=0, width=0.25)\n",
    "df['change2'].plot(kind='bar', color='blue', ax=ax2, position=1, width=0.25)\n",
    "ax.set_ylabel = ('change1')\n",
    "ax2.set_ylabel = ('change2')\n",
    "plt.show()"
   ]
  },
  {
   "cell_type": "code",
   "execution_count": 19,
   "metadata": {
    "collapsed": true
   },
   "outputs": [],
   "source": [
    "df.to_csv('regular_advanced.csv', index=False)"
   ]
  },
  {
   "cell_type": "code",
   "execution_count": null,
   "metadata": {
    "collapsed": true
   },
   "outputs": [],
   "source": []
  }
 ],
 "metadata": {
  "anaconda-cloud": {},
  "kernelspec": {
   "display_name": "Python [conda root]",
   "language": "python",
   "name": "conda-root-py"
  },
  "language_info": {
   "codemirror_mode": {
    "name": "ipython",
    "version": 2
   },
   "file_extension": ".py",
   "mimetype": "text/x-python",
   "name": "python",
   "nbconvert_exporter": "python",
   "pygments_lexer": "ipython2",
   "version": "2.7.12"
  }
 },
 "nbformat": 4,
 "nbformat_minor": 1
}
