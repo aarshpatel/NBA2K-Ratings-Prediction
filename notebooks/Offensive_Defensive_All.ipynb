{
 "cells": [
  {
   "cell_type": "code",
   "execution_count": 1,
   "metadata": {
    "collapsed": true
   },
   "outputs": [],
   "source": [
    "import numpy as np\n",
    "import pandas as pd"
   ]
  },
  {
   "cell_type": "code",
   "execution_count": 2,
   "metadata": {
    "collapsed": true
   },
   "outputs": [],
   "source": [
    "df = pd.read_csv('../../data/scrape_data/feature_engineered_dataset.csv')"
   ]
  },
  {
   "cell_type": "code",
   "execution_count": 3,
   "metadata": {
    "collapsed": true
   },
   "outputs": [],
   "source": [
    "train = np.load('../../data/numpy_data/train.npy')\n",
    "X_train = np.load('../../data/numpy_data/X_train.npy')\n",
    "y_train = np.load('../../data/numpy_data/y_train.npy')\n",
    "X_test = np.load('../../data/numpy_data/X_test.npy')\n",
    "y_test = np.load('../../data/numpy_data/y_test.npy')"
   ]
  },
  {
   "cell_type": "code",
   "execution_count": 4,
   "metadata": {
    "collapsed": false
   },
   "outputs": [],
   "source": [
    "train_offensive_X = train[:, [0, 1, 2, 3, 4, 5, 6, 7, 8, 9, 10, 11, 12, 13, 14, 15, 16, 19, 22, 23, 24, 25, 26, 31, 32, 33, 34, 35, 37, 39, 40, 41, 42, 43, 44, 45, 46, 47, 48]]\n",
    "train_defensive_X = train[:, [0, 1, 2, 3, 4, 5, 6, 7, 28, 29, 30, 35, 36, 40, 41, 42, 43, 44, 45, 46, 47, 48]]\n",
    "train_y_off_deff = train[:, [49]]"
   ]
  },
  {
   "cell_type": "code",
   "execution_count": 5,
   "metadata": {
    "collapsed": true
   },
   "outputs": [],
   "source": [
    "X_train_offensive = X_train[:, [0, 1, 2, 3, 4, 5, 6, 7, 8, 9, 10, 11, 12, 13, 14, 15, 16, 19, 22, 23, 24, 25, 26, 31, 32, 33, 34, 35, 37, 39, 40, 41, 42, 43, 44, 45, 46, 47, 48]]\n",
    "X_train_defensive = X_train[:, [0, 1, 2, 3, 4, 5, 6, 7, 28, 29, 30, 35, 36, 40, 41, 42, 43, 44, 45, 46, 47, 48]]\n",
    "\n",
    "X_test_offensive = X_test[:, [0, 1, 2, 3, 4, 5, 6, 7, 8, 9, 10, 11, 12, 13, 14, 15, 16, 19, 22, 23, 24, 25, 26, 31, 32, 33, 34, 35, 37, 39, 40, 41, 42, 43, 44, 45, 46, 47, 48]]\n",
    "X_test_defensive = X_test[:, [0, 1, 2, 3, 4, 5, 6, 7, 28, 29, 30, 35, 36, 40, 41, 42, 43, 44, 45, 46, 47, 48]]"
   ]
  },
  {
   "cell_type": "code",
   "execution_count": 7,
   "metadata": {
    "collapsed": false
   },
   "outputs": [],
   "source": [
    "np.save('../../data/numpy_data/train_offensive.npy', train_offensive_X)\n",
    "np.save('../../data/numpy_data/train_defensive.npy', train_defensive_X)\n",
    "np.save('../../data/numpy_data/X_train_offensive.npy', X_train_offensive)\n",
    "np.save('../../data/numpy_data/X_train_defensive.npy', X_train_defensive)\n",
    "np.save('../../data/numpy_data/X_test_offensive.npy', X_test_offensive)\n",
    "np.save('../../data/numpy_data/X_test_defensive.npy', X_test_defensive)"
   ]
  },
  {
   "cell_type": "code",
   "execution_count": null,
   "metadata": {
    "collapsed": true
   },
   "outputs": [],
   "source": []
  }
 ],
 "metadata": {
  "anaconda-cloud": {},
  "kernelspec": {
   "display_name": "Python [conda root]",
   "language": "python",
   "name": "conda-root-py"
  },
  "language_info": {
   "codemirror_mode": {
    "name": "ipython",
    "version": 2
   },
   "file_extension": ".py",
   "mimetype": "text/x-python",
   "name": "python",
   "nbconvert_exporter": "python",
   "pygments_lexer": "ipython2",
   "version": "2.7.12"
  }
 },
 "nbformat": 4,
 "nbformat_minor": 0
}
