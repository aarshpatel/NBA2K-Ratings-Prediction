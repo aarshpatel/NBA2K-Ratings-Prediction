{
 "cells": [
  {
   "cell_type": "code",
   "execution_count": 1,
   "metadata": {
    "collapsed": true
   },
   "outputs": [],
   "source": [
    "import numpy as np\n",
    "import pandas as pd\n"
   ]
  },
  {
   "cell_type": "code",
   "execution_count": 2,
   "metadata": {
    "collapsed": true
   },
   "outputs": [],
   "source": [
    "train = np.load('train.npy')\n",
    "X_train = np.load('X_train.npy')\n",
    "y_train = np.load('y_train.npy')\n",
    "X_test = np.load('X_test.npy')\n",
    "y_test = np.load('y_test.npy')"
   ]
  },
  {
   "cell_type": "code",
   "execution_count": 3,
   "metadata": {
    "collapsed": true
   },
   "outputs": [],
   "source": [
    "train_regular_X = train[:, np.arange(0, 25)]\n",
    "train_advanced_X = train[:, np.arange(25,49)]\n",
    "\n",
    "X_train_regular = X_train[:, np.arange(0, 25)]\n",
    "X_train_advanced = X_train[:, np.arange(25, 49)]\n",
    "\n",
    "X_test_regular = X_test[:, np.arange(0, 25)]\n",
    "X_test_advanced = X_test[:, np.arange(25, 49)]"
   ]
  },
  {
   "cell_type": "code",
   "execution_count": 4,
   "metadata": {
    "collapsed": true
   },
   "outputs": [],
   "source": [
    "np.save(\"train_regular.npy\", train_regular_X)\n",
    "np.save(\"train_advanced.npy\", train_advanced_X)\n",
    "np.save(\"X_train_regular.npy\", X_train_regular)\n",
    "np.save(\"X_train_advanced.npy\", X_train_advanced)\n",
    "np.save(\"X_test_regular.npy\", X_test_regular)\n",
    "np.save(\"X_test_advanced.npy\", X_test_advanced)"
   ]
  },
  {
   "cell_type": "code",
   "execution_count": null,
   "metadata": {
    "collapsed": true
   },
   "outputs": [],
   "source": []
  },
  {
   "cell_type": "code",
   "execution_count": null,
   "metadata": {
    "collapsed": true
   },
   "outputs": [],
   "source": []
  },
  {
   "cell_type": "code",
   "execution_count": 25,
   "metadata": {
    "collapsed": false
   },
   "outputs": [],
   "source": [
    "advanced = np.arange(25, 49)\n",
    "advanced_stats = train[0, advanced]"
   ]
  },
  {
   "cell_type": "code",
   "execution_count": 26,
   "metadata": {
    "collapsed": false
   },
   "outputs": [
    {
     "data": {
      "text/plain": [
       "array([  0.296     ,  14.        ,   0.2       ,  -0.1       ,\n",
       "        12.2       ,   1.9       ,   0.337     ,  -0.6       ,\n",
       "         3.2       ,   1.7       ,  12.6       ,   2.4       ,\n",
       "        15.5       ,   7.8       ,   0.531     ,  17.4       ,\n",
       "         0.7       ,   0.08      ,   0.        ,   0.        ,\n",
       "         0.        ,   0.        ,   1.        ,   0.83950617])"
      ]
     },
     "execution_count": 26,
     "metadata": {},
     "output_type": "execute_result"
    }
   ],
   "source": [
    "advanced_stats"
   ]
  },
  {
   "cell_type": "code",
   "execution_count": null,
   "metadata": {
    "collapsed": true
   },
   "outputs": [],
   "source": []
  }
 ],
 "metadata": {
  "anaconda-cloud": {},
  "kernelspec": {
   "display_name": "Python [conda root]",
   "language": "python",
   "name": "conda-root-py"
  },
  "language_info": {
   "codemirror_mode": {
    "name": "ipython",
    "version": 2
   },
   "file_extension": ".py",
   "mimetype": "text/x-python",
   "name": "python",
   "nbconvert_exporter": "python",
   "pygments_lexer": "ipython2",
   "version": "2.7.12"
  }
 },
 "nbformat": 4,
 "nbformat_minor": 1
}
